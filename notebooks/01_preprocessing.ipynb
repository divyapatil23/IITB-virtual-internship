{
  "nbformat": 4,
  "nbformat_minor": 0,
  "metadata": {
    "colab": {
      "provenance": []
    },
    "kernelspec": {
      "name": "python3",
      "display_name": "Python 3"
    },
    "language_info": {
      "name": "python"
    }
  },
  "cells": [
    {
      "cell_type": "code",
      "execution_count": null,
      "metadata": {
        "id": "oHH0-uNMvngU"
      },
      "outputs": [],
      "source": [
        "import pandas as pd\n",
        "from pathlib import Path\n",
        "import os\n",
        "\n",
        "# 1. Set the data directory - your files are in the same folder as the script\n",
        "data_dir = Path(\"C:/Users/patil/Downloads/STData/merged_data\")  # Current directory where script is running\n",
        "\n",
        "# 2. Define the specific columns we want from each file\n",
        "psy_columns = ['Key', 'participant_id', 'routineStart', 'routineEnd', 'verdict', 'ResponseTime']\n",
        "eeg_columns = ['UnixTime', 'participant_id', 'Alpha_TP9', 'Alpha_AF7', 'Alpha_AF8', 'Alpha_TP10', 'Beta_TP9', 'Beta_AF7', 'Beta_AF8', 'Beta_TP10', 'Gamma_TP9', 'Gamma_AF7', 'Gamma_AF8', 'Gamma_TP10']\n",
        "gsr_columns = ['UnixTime', 'participant_id', 'GSR Conductance CAL']\n",
        "eye_columns = ['UnixTime', 'participant_id', 'ET_PupilLeft', 'ET_PupilRight', 'ET_ValidityLeft', 'ET_ValidityRight']\n",
        "tiva_columns = ['UnixTime', 'participant_id', 'Joy', 'Anger', 'Surprise', 'Fear', 'Sadness', 'Disgust', 'Contempt', 'Neutral', 'Engagement', 'Valence', 'Attention', 'Blink', 'BlinkRate', 'Eye Closure', 'Eye Widen', 'Brow Furrow', 'Brow Raise', 'Cheek Raise', 'Lip Corner Depressor', 'Smile']\n",
        "ivt_columns = ['UnixTime', 'participant_id', 'Fixation Index', 'Fixation Duration', 'Fixation Dispersion', 'Saccade Index', 'Saccade Amplitude', 'Gaze Velocity']\n",
        "\n",
        "# 3. Load each CSV file with the CORRECT file names\n",
        "print(\"Loading PSY data...\")\n",
        "psy_df = pd.read_csv(data_dir / 'PSY_merged.csv', usecols=psy_columns)  # Changed from PSY.csv\n",
        "\n",
        "print(\"Loading EEG data...\")\n",
        "eeg_df = pd.read_csv(data_dir / 'EEG_merged.csv', usecols=eeg_columns)  # Changed from EEG.csv\n",
        "\n",
        "print(\"Loading GSR data...\")\n",
        "# Note: Your file is called GSK_merged.csv, not GSR.csv\n",
        "gsr_df = pd.read_csv(data_dir / 'GSR_merged.csv', usecols=gsr_columns)  # Changed from GSR.csv\n",
        "\n",
        "print(\"Loading EYE data...\")\n",
        "eye_df = pd.read_csv(data_dir / 'EYE_merged.csv', usecols=eye_columns)  # Changed from EYE.csv\n",
        "\n",
        "print(\"Loading TIVA data...\")\n",
        "tiva_df = pd.read_csv(data_dir / 'TIVA_merged.csv', usecols=tiva_columns)  # Changed from TIVA.csv\n",
        "\n",
        "print(\"Loading IVT data...\")\n",
        "# Note: Your file is called INT_merged.csv, not IVT.csv\n",
        "ivt_df = pd.read_csv(data_dir / 'IVT_merged.csv', usecols=ivt_columns)  # Changed from IVT.csv\n",
        "\n",
        "# 4. Convert 'UnixTime' to datetime for easier handling\n",
        "print(\"Converting UnixTime to datetime...\")\n",
        "for df in [eeg_df, gsr_df, eye_df, tiva_df, ivt_df]:\n",
        "    df['UnixTime'] = pd.to_datetime(df['UnixTime'], unit='s')\n",
        "\n",
        "# 5. Print the shape and first few rows of each dataframe to verify\n",
        "print(\"\\nData Loading Complete! Summary:\")\n",
        "print(f\"PSY DataFrame Shape: {psy_df.shape}\")\n",
        "print(f\"EEG DataFrame Shape: {eeg_df.shape}\")\n",
        "print(f\"GSR DataFrame Shape: {gsr_df.shape}\")\n",
        "print(f\"EYE DataFrame Shape: {eye_df.shape}\")\n",
        "print(f\"TIVA DataFrame Shape: {tiva_df.shape}\")\n",
        "print(f\"IVT DataFrame Shape: {ivt_df.shape}\")\n",
        "\n",
        "print(\"\\nSample of PSY data (showing trial windows):\")\n",
        "print(psy_df.head())\n",
        "\n",
        "# 6. Save the extracted data to new files\n",
        "output_dir = Path(\"processed_data/extracted_data\")\n",
        "output_dir.mkdir(parents=True, exist_ok=True)\n",
        "\n",
        "print(f\"\\nSaving extracted data to: {output_dir}\")\n",
        "psy_df.to_csv(output_dir / 'PSY_extracted.csv', index=False)\n",
        "eeg_df.to_csv(output_dir / 'EEG_extracted.csv', index=False)\n",
        "gsr_df.to_csv(output_dir / 'GSR_extracted.csv', index=False)\n",
        "eye_df.to_csv(output_dir / 'EYE_extracted.csv', index=False)\n",
        "tiva_df.to_csv(output_dir / 'TIVA_extracted.csv', index=False)\n",
        "ivt_df.to_csv(output_dir / 'IVT_extracted.csv', index=False)\n",
        "\n",
        "print(\"Done! Extracted data has been saved.\")"
      ]
    }
  ]
}